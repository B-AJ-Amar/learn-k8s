{
 "cells": [
  {
   "cell_type": "markdown",
   "metadata": {},
   "source": [
    "## Mongo & Express\n",
    "\n",
    "### Overview\n",
    "\n",
    "in this notebook we are going to impliment this k8s setup :\n",
    "- mongodb : \n",
    "  - it should have a pod connected to an `internal service`\n",
    "- express :\n",
    "  - should have pod \n",
    "  - it should connect with the mongodb useing mongodb `internal service`\n",
    "  - it should take the secret env vars from `secret` component\n",
    "  - it should take the other env from `configMap`\n",
    "  - it should have an `external service` to make it eccessable from the outside\n",
    "<img src=\"./img/Screenshot_20250219_122351.png\" />"
   ]
  }
 ],
 "metadata": {
  "language_info": {
   "name": "python"
  }
 },
 "nbformat": 4,
 "nbformat_minor": 2
}
