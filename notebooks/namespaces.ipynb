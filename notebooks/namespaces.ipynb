{
 "cells": [
  {
   "cell_type": "markdown",
   "metadata": {},
   "source": [
    "### **Kubernetes Namespaces**  \n",
    "Namespaces in Kubernetes allow you to **logically separate and organize resources** within a cluster. They help manage multiple teams, environments, or projects efficiently.\n",
    "\n",
    "---\n",
    "\n",
    "## **1. What is a Namespace?**  \n",
    "A **Namespace** is a virtual cluster within a Kubernetes cluster. It allows you to create and manage resources in isolated groups.  \n",
    "\n",
    "🔹 **By default, Kubernetes comes with these namespaces:**  \n",
    "- `default` – Used when no namespace is specified.  \n",
    "- `kube-system` – Contains system-related components (e.g., CoreDNS, API server).  \n",
    "- `kube-public` – Used for publicly accessible resources.  \n",
    "- `kube-node-lease` – Helps track node health.\n",
    "\n",
    "---\n",
    "\n",
    "## **2. Creating a Namespace**\n",
    "### **Namespace YAML Example**\n",
    "```yaml\n",
    "apiVersion: v1\n",
    "kind: Namespace\n",
    "metadata:\n",
    "  name: my-namespace\n",
    "```\n",
    "To apply it:\n",
    "```sh\n",
    "kubectl apply -f namespace.yaml\n",
    "```\n",
    "\n",
    "---\n",
    "\n",
    "## **3. Using Namespaces**\n",
    "### **Create resources in a specific namespace**\n",
    "```sh\n",
    "kubectl apply -f resource.yaml --namespace=my-namespace\n",
    "```\n",
    "\n",
    "### **View resources in a namespace**\n",
    "```sh\n",
    "kubectl get pods --namespace=my-namespace\n",
    "```\n",
    "\n",
    "### **Set a default namespace for kubectl**\n",
    "```sh\n",
    "kubectl config set-context --current --namespace=my-namespace\n",
    "```\n",
    "\n",
    "### **Delete a namespace**\n",
    "```sh\n",
    "kubectl delete namespace my-namespace\n",
    "```\n"
   ]
  }
 ],
 "metadata": {
  "language_info": {
   "name": "python"
  }
 },
 "nbformat": 4,
 "nbformat_minor": 2
}
